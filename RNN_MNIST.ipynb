{
 "cells": [
  {
   "cell_type": "markdown",
   "metadata": {},
   "source": [
    "# ANN: HW5-RNN EX3"
   ]
  },
    
  {
   "cell_type": "code",
   "execution_count": 1,
   "metadata": {},
   "outputs": [],
   "source": [
    "import tensorflow as tf\n",
    "import numpy as np\n",
    "from tensorflow.keras.models import Sequential\n",
    "from tensorflow.keras.layers import LSTM, Dense\n",
    "\n",
    "from tensorflow.keras.datasets import mnist"
   ]
  },
  {
   "cell_type": "code",
   "execution_count": 2,
   "metadata": {},
   "outputs": [],
   "source": [
    "(X_train, y_train), (X_test, y_test) = mnist.load_data()"
   ]
  },
  {
   "cell_type": "code",
   "execution_count": 3,
   "metadata": {},
   "outputs": [
    {
     "data": {
      "text/plain": [
       "(60000, 28, 28)"
      ]
     },
     "execution_count": 3,
     "metadata": {},
     "output_type": "execute_result"
    }
   ],
   "source": [
    "X_train.shape"
   ]
  },
  {
   "cell_type": "code",
   "execution_count": 4,
   "metadata": {},
   "outputs": [],
   "source": [
    "# Split the first 19 rows of each picture as X (input timestep) and the 20th row as the prediction (y)\n",
    "X_seq, y_seq = list(), list()\n",
    "for i in range(X_train.shape[0]):\n",
    "    X_seq.append(X_train[i, :20, :])\n",
    "    y_seq.append(X_train[i, 20, :])\n",
    "                 "
   ]
  },
  {
   "cell_type": "code",
   "execution_count": 5,
   "metadata": {},
   "outputs": [],
   "source": [
    "X_seq = np.array(X_seq)\n",
    "y_seq = np.array(y_seq)"
   ]
  },
  {
   "cell_type": "code",
   "execution_count": 6,
   "metadata": {},
   "outputs": [
    {
     "data": {
      "text/plain": [
       "(60000, 20, 28)"
      ]
     },
     "execution_count": 6,
     "metadata": {},
     "output_type": "execute_result"
    }
   ],
   "source": [
    "X_seq.shape"
   ]
  },
  {
   "cell_type": "code",
   "execution_count": 7,
   "metadata": {},
   "outputs": [
    {
     "data": {
      "text/plain": [
       "(60000, 28)"
      ]
     },
     "execution_count": 7,
     "metadata": {},
     "output_type": "execute_result"
    }
   ],
   "source": [
    "y_seq.shape"
   ]
  },
  {
   "cell_type": "code",
   "execution_count": 8,
   "metadata": {},
   "outputs": [],
   "source": [
    "# Normalize the dataset\n",
    "X_seq = X_seq / 255\n",
    "y_seq = y_seq / 255"
   ]
  },
  {
   "cell_type": "code",
   "execution_count": 9,
   "metadata": {},
   "outputs": [],
   "source": [
    "# Zero Centering\n",
    "X_seq = X_seq - .5\n",
    "y_seq = y_seq - .5"
   ]
  },
  {
   "cell_type": "code",
   "execution_count": 10,
   "metadata": {},
   "outputs": [
    {
     "name": "stderr",
     "output_type": "stream",
     "text": [
      "Using TensorFlow backend.\n"
     ]
    }
   ],
   "source": [
    "import keras\n",
    "keras.backend.clear_session()"
   ]
  },
  {
   "cell_type": "code",
   "execution_count": 11,
   "metadata": {},
   "outputs": [
    {
     "name": "stdout",
     "output_type": "stream",
     "text": [
      "WARNING:tensorflow:From C:\\ProgramData\\Anaconda3\\envs\\tf_gpu\\lib\\site-packages\\tensorflow_core\\python\\ops\\resource_variable_ops.py:1630: calling BaseResourceVariable.__init__ (from tensorflow.python.ops.resource_variable_ops) with constraint is deprecated and will be removed in a future version.\n",
      "Instructions for updating:\n",
      "If using Keras pass *_constraint arguments to layers.\n"
     ]
    }
   ],
   "source": [
    "# define model\n",
    "model = Sequential()\n",
    "model.add(LSTM(64, activation='relu', input_shape=(20, 28)))\n",
    "model.add(Dense(28))\n",
    "model.compile(optimizer='adam', loss='mse', metrics=['accuracy'])"
   ]
  },
  {
   "cell_type": "code",
   "execution_count": 59,
   "metadata": {},
   "outputs": [
    {
     "name": "stdout",
     "output_type": "stream",
     "text": [
      "Model: \"sequential\"\n",
      "_________________________________________________________________\n",
      "Layer (type)                 Output Shape              Param #   \n",
      "=================================================================\n",
      "lstm (LSTM)                  (None, 64)                23808     \n",
      "_________________________________________________________________\n",
      "dense (Dense)                (None, 28)                1820      \n",
      "=================================================================\n",
      "Total params: 25,628\n",
      "Trainable params: 25,628\n",
      "Non-trainable params: 0\n",
      "_________________________________________________________________\n"
     ]
    }
   ],
   "source": [
    "model.summary()"
   ]
  },
  {
   "cell_type": "code",
   "execution_count": 12,
   "metadata": {},
   "outputs": [
    {
     "name": "stdout",
     "output_type": "stream",
     "text": [
      "WARNING:tensorflow:From C:\\ProgramData\\Anaconda3\\envs\\tf_gpu\\lib\\site-packages\\tensorflow_core\\python\\ops\\math_grad.py:1424: where (from tensorflow.python.ops.array_ops) is deprecated and will be removed in a future version.\n",
      "Instructions for updating:\n",
      "Use tf.where in 2.0, which has the same broadcast rule as np.where\n",
      "Train on 60000 samples\n",
      "Epoch 1/12\n",
      "60000/60000 [==============================] - 74s 1ms/sample - loss: 0.0299 - acc: 0.3707\n",
      "Epoch 2/12\n",
      "60000/60000 [==============================] - 72s 1ms/sample - loss: 0.0203 - acc: 0.4148\n",
      "Epoch 3/12\n",
      "60000/60000 [==============================] - 72s 1ms/sample - loss: 0.0183 - acc: 0.4211\n",
      "Epoch 4/12\n",
      "60000/60000 [==============================] - 73s 1ms/sample - loss: 0.0170 - acc: 0.4263\n",
      "Epoch 5/12\n",
      "60000/60000 [==============================] - 72s 1ms/sample - loss: 0.0162 - acc: 0.4319\n",
      "Epoch 6/12\n",
      "60000/60000 [==============================] - 73s 1ms/sample - loss: 0.0155 - acc: 0.43390s - loss: 0.0155 \n",
      "Epoch 7/12\n",
      "60000/60000 [==============================] - 73s 1ms/sample - loss: 0.0151 - acc: 0.4378\n",
      "Epoch 8/12\n",
      "60000/60000 [==============================] - 74s 1ms/sample - loss: 0.0147 - acc: 0.4385\n",
      "Epoch 9/12\n",
      "60000/60000 [==============================] - 73s 1ms/sample - loss: 0.0143 - acc: 0.4412\n",
      "Epoch 10/12\n",
      "60000/60000 [==============================] - 72s 1ms/sample - loss: 0.0141 - acc: 0.4439\n",
      "Epoch 11/12\n",
      "60000/60000 [==============================] - 72s 1ms/sample - loss: 0.0138 - acc: 0.4426\n",
      "Epoch 12/12\n",
      "60000/60000 [==============================] - 73s 1ms/sample - loss: 0.0136 - acc: 0.4462\n"
     ]
    },
    {
     "data": {
      "text/plain": [
       "<tensorflow.python.keras.callbacks.History at 0x1f691e0c608>"
      ]
     },
     "execution_count": 12,
     "metadata": {},
     "output_type": "execute_result"
    }
   ],
   "source": [
    "# fit model\n",
    "model.fit(X_seq, y_seq, epochs=12)"
   ]
  },
  {
   "cell_type": "code",
   "execution_count": 13,
   "metadata": {},
   "outputs": [],
   "source": [
    "# Save Model\n",
    "model.save(\"Mnist_LSTM.h5\")"
   ]
  },
  {
   "cell_type": "code",
   "execution_count": 8,
   "metadata": {},
   "outputs": [
    {
     "name": "stdout",
     "output_type": "stream",
     "text": [
      "WARNING:tensorflow:From C:\\ProgramData\\Anaconda3\\envs\\tf_gpu\\lib\\site-packages\\tensorflow_core\\python\\ops\\init_ops.py:97: calling GlorotUniform.__init__ (from tensorflow.python.ops.init_ops) with dtype is deprecated and will be removed in a future version.\n",
      "Instructions for updating:\n",
      "Call initializer instance with the dtype argument instead of passing it to the constructor\n",
      "WARNING:tensorflow:From C:\\ProgramData\\Anaconda3\\envs\\tf_gpu\\lib\\site-packages\\tensorflow_core\\python\\ops\\init_ops.py:97: calling Orthogonal.__init__ (from tensorflow.python.ops.init_ops) with dtype is deprecated and will be removed in a future version.\n",
      "Instructions for updating:\n",
      "Call initializer instance with the dtype argument instead of passing it to the constructor\n",
      "WARNING:tensorflow:From C:\\ProgramData\\Anaconda3\\envs\\tf_gpu\\lib\\site-packages\\tensorflow_core\\python\\ops\\init_ops.py:97: calling Zeros.__init__ (from tensorflow.python.ops.init_ops) with dtype is deprecated and will be removed in a future version.\n",
      "Instructions for updating:\n",
      "Call initializer instance with the dtype argument instead of passing it to the constructor\n",
      "WARNING:tensorflow:From C:\\ProgramData\\Anaconda3\\envs\\tf_gpu\\lib\\site-packages\\tensorflow_core\\python\\ops\\resource_variable_ops.py:1630: calling BaseResourceVariable.__init__ (from tensorflow.python.ops.resource_variable_ops) with constraint is deprecated and will be removed in a future version.\n",
      "Instructions for updating:\n",
      "If using Keras pass *_constraint arguments to layers.\n",
      "WARNING:tensorflow:From C:\\ProgramData\\Anaconda3\\envs\\tf_gpu\\lib\\site-packages\\tensorflow_core\\python\\ops\\math_grad.py:1424: where (from tensorflow.python.ops.array_ops) is deprecated and will be removed in a future version.\n",
      "Instructions for updating:\n",
      "Use tf.where in 2.0, which has the same broadcast rule as np.where\n"
     ]
    }
   ],
   "source": [
    "from tensorflow.keras.models import load_model\n",
    "# load model\n",
    "model = load_model('Mnist_LSTM.h5')"
   ]
  },
  {
   "cell_type": "code",
   "execution_count": 18,
   "metadata": {},
   "outputs": [],
   "source": [
    "from PIL import Image\n",
    "# Load the sample damaged image\n",
    "im = Image.open(\"damaged.bmp\")\n",
    "# Resize the image as Mnist images size\n",
    "im = im.resize((28, 28))\n",
    "\n",
    "# Alternatively, any other image from Mnist test images (X_test) could be loaded and damaged on porpose as a test\n",
    "# im = X_test[200]\n",
    "# im[20,:] = np.zeros(28)"
   ]
  },
  {
   "cell_type": "code",
   "execution_count": 19,
   "metadata": {},
   "outputs": [
    {
     "data": {
      "text/plain": [
       "<matplotlib.image.AxesImage at 0x1de00c74f08>"
      ]
     },
     "execution_count": 19,
     "metadata": {},
     "output_type": "execute_result"
    },
    {
     "data": {
      "image/png": "[encoded data removed]",
      "text/plain": [
       "<Figure size 432x288 with 1 Axes>"
      ]
     },
     "metadata": {
      "needs_background": "light"
     },
     "output_type": "display_data"
    }
   ],
   "source": [
    "import matplotlib.pyplot as plt\n",
    "plt.imshow(im, cmap='gray')"
   ]
  },
  {
   "cell_type": "code",
   "execution_count": 20,
   "metadata": {},
   "outputs": [
    {
     "data": {
      "text/plain": [
       "(28, 28)"
      ]
     },
     "execution_count": 20,
     "metadata": {},
     "output_type": "execute_result"
    }
   ],
   "source": [
    "# Convet the image to numpy array\n",
    "im = np.array(im)\n",
    "im.shape"
   ]
  },
  {
   "cell_type": "code",
   "execution_count": 21,
   "metadata": {},
   "outputs": [
    {
     "data": {
      "text/plain": [
       "(1, 20, 28)"
      ]
     },
     "execution_count": 21,
     "metadata": {},
     "output_type": "execute_result"
    }
   ],
   "source": [
    "# Pick the first 20 rows of the damaged image as the test sequence to be fed to the model\n",
    "test_img = im[:20,:]\n",
    "\n",
    "# Normalize the test sequence\n",
    "test_img = test_img / 255\n",
    "# Zero Centering\n",
    "test_img = test_img - .5\n",
    "\n",
    "# Resize the test sequence to match the input shape of the model\n",
    "test_img = np.resize(test_img,(1, test_img.shape[0], test_img.shape[1]))\n",
    "test_img.shape"
   ]
  },
  {
   "cell_type": "code",
   "execution_count": 22,
   "metadata": {},
   "outputs": [
    {
     "data": {
      "text/plain": [
       "array([[  0.4474412 ,   0.3021674 ,   0.        ,   0.        ,\n",
       "          0.        ,   0.        ,   0.        ,   0.        ,\n",
       "          0.        ,   0.        ,   2.6972775 ,   1.2993023 ,\n",
       "         18.854748  , 102.0783    , 195.19188   , 184.09962   ,\n",
       "         66.79467   ,   5.3444815 ,   8.119306  ,   3.171781  ,\n",
       "          0.        ,   3.9834478 ,   6.229766  ,   0.46333194,\n",
       "          0.37410513,   0.6466645 ,   0.        ,   0.49473345]],\n",
       "      dtype=float32)"
      ]
     },
     "execution_count": 22,
     "metadata": {},
     "output_type": "execute_result"
    }
   ],
   "source": [
    "# Feed the test sequence to the model in order to predict the output sequence (damaged row of the image)\n",
    "yhat = model.predict(test_img, verbose=0)\n",
    "\n",
    "# Since the input sequence was normalized and zero-centered,  \n",
    "# the reverse action has to be taken, such that the predicted row is prepared to be used in the image\n",
    "yhat = yhat + .5\n",
    "yhat = yhat * 255\n",
    "\n",
    "# Since the prediction is an approximation of the missing row, it has to be modified for impermissible values,\n",
    "# such that values less than 0 are rounded up to 0, and values greater than 255 are rounded down to 255\n",
    "yhat = np.where(yhat > 0.0, yhat , 0)\n",
    "yhat = np.where(yhat > 255.0, 255.0 , yhat)\n",
    "\n",
    "yhat"
   ]
  },
  {
   "cell_type": "code",
   "execution_count": 23,
   "metadata": {},
   "outputs": [
    {
     "data": {
      "text/plain": [
       "<matplotlib.image.AxesImage at 0x1de00c6bc08>"
      ]
     },
     "execution_count": 23,
     "metadata": {},
     "output_type": "execute_result"
    },
    {
     "data": {
      "image/png": "[encoded data removed]",
      "text/plain": [
       "<Figure size 432x288 with 1 Axes>"
      ]
     },
     "metadata": {
      "needs_background": "light"
     },
     "output_type": "display_data"
    }
   ],
   "source": [
    "# Now insert the predicted missing row in appropriate row of the damaged image\n",
    "im[20, :] = yhat\n",
    "\n",
    "# Plot the recovered image\n",
    "plt.imshow(im, cmap='gray')"
   ]
  },
  {
   "cell_type": "code",
   "execution_count": 24,
   "metadata": {},
   "outputs": [],
   "source": [
    "# Convert the numpy array to image\n",
    "im = Image.fromarray(im)\n",
    "# Resize the recovered image to more clearly diplayed\n",
    "im = im.resize((140, 140))\n",
    "# Save the image\n",
    "im.save('Recovered_img.bmp')"
   ]
  },
  {
   "cell_type": "code",
   "execution_count": 88,
   "metadata": {},
   "outputs": [],
   "source": []
  }
 ],
 "metadata": {
  "kernelspec": {
   "display_name": "Python 3",
   "language": "python",
   "name": "python3"
  },
  "language_info": {
   "codemirror_mode": {
    "name": "ipython",
    "version": 3
   },
   "file_extension": ".py",
   "mimetype": "text/x-python",
   "name": "python",
   "nbconvert_exporter": "python",
   "pygments_lexer": "ipython3",
   "version": "3.7.6"
  }
 },
 "nbformat": 4,
 "nbformat_minor": 4
}
